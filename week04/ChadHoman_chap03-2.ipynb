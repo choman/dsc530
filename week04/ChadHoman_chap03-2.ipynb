{
 "cells": [
  {
   "cell_type": "code",
   "execution_count": 1,
   "id": "375fbd03-b5c9-43df-bf2b-074c6415c681",
   "metadata": {},
   "outputs": [],
   "source": [
    "import numpy as np\n",
    "import pandas as pd\n",
    "\n",
    "from thinkstats2 import Pmf\n",
    "from scipy.stats import describe"
   ]
  },
  {
   "cell_type": "code",
   "execution_count": 2,
   "id": "8ab936c4-f9c9-4078-8255-28d54c701ed8",
   "metadata": {},
   "outputs": [],
   "source": [
    "# Sample pmf from book pg 29\n",
    "pmf = {7: 8, 12: 8, 17:14, 22: 4, 27:6, 32:12,37:8, 42:3, 47:2}"
   ]
  },
  {
   "cell_type": "code",
   "execution_count": 3,
   "id": "454d5c65-8d91-487f-88e8-f52cb4cfeb71",
   "metadata": {},
   "outputs": [
    {
     "data": {
      "text/plain": [
       "{7: 0.12307692307692308,\n",
       " 12: 0.12307692307692308,\n",
       " 17: 0.2153846153846154,\n",
       " 22: 0.06153846153846154,\n",
       " 27: 0.09230769230769231,\n",
       " 32: 0.18461538461538463,\n",
       " 37: 0.12307692307692308,\n",
       " 42: 0.046153846153846156,\n",
       " 47: 0.03076923076923077}"
      ]
     },
     "execution_count": 3,
     "metadata": {},
     "output_type": "execute_result"
    }
   ],
   "source": [
    "pmf = Pmf(pmf)\n",
    "pmf.d"
   ]
  },
  {
   "cell_type": "markdown",
   "id": "891be614-a582-4768-884c-c9486cee964f",
   "metadata": {},
   "source": [
    "According to the book, it looks like we sum the muliplicate of the value by the number of times it occurs. So in my example pmf above 7 occurs 8 times, etc so 56 + etc?"
   ]
  },
  {
   "cell_type": "code",
   "execution_count": 4,
   "id": "8998d407-c23c-4aa3-b513-fb58a61508a0",
   "metadata": {},
   "outputs": [],
   "source": [
    "def myPmfMean(pmf):\n",
    "    mean = 0.0\n",
    "    for value, occurance in pmf.items():\n",
    "        mean += occurance * value\n",
    "    \n",
    "    return mean"
   ]
  },
  {
   "cell_type": "code",
   "execution_count": null,
   "id": "4357b773-fadb-4931-8076-4ddf0ae7d613",
   "metadata": {},
   "outputs": [],
   "source": []
  },
  {
   "cell_type": "markdown",
   "id": "28a60c50-dee8-4710-8d89-760b87a5b0df",
   "metadata": {},
   "source": [
    "According to the book, it looks like something simillar but if I read this correctly it appears to be muliplynig the (from above) 7 * (8 - mean)^2. Very odd indeed."
   ]
  },
  {
   "cell_type": "code",
   "execution_count": 5,
   "id": "93a41272-6ce2-4f45-b57a-3dea9ae4caea",
   "metadata": {},
   "outputs": [],
   "source": [
    "def PmfVar(pmf, mean):\n",
    "    variance = 0\n",
    "    \n",
    "    for value, occurance in pmf.items():\n",
    "        variance += occurance * (value - mean) ** 2\n",
    "        \n",
    "    return variance\n",
    "        \n"
   ]
  },
  {
   "cell_type": "code",
   "execution_count": 6,
   "id": "7e07b086-af6d-4631-8ec7-beb8e29b5a49",
   "metadata": {},
   "outputs": [
    {
     "data": {
      "text/plain": [
       "23.692307692307693"
      ]
     },
     "execution_count": 6,
     "metadata": {},
     "output_type": "execute_result"
    }
   ],
   "source": [
    "mymean = myPmfMean(pmf.d)\n",
    "mymean"
   ]
  },
  {
   "cell_type": "code",
   "execution_count": 7,
   "id": "1fb9fc1e-cb92-42a7-9414-62143b30216a",
   "metadata": {},
   "outputs": [
    {
     "data": {
      "text/plain": [
       "128.67455621301775"
      ]
     },
     "execution_count": 7,
     "metadata": {},
     "output_type": "execute_result"
    }
   ],
   "source": [
    "myvariance = PmfVar(pmf.d, mymean)\n",
    "myvariance"
   ]
  },
  {
   "cell_type": "code",
   "execution_count": 8,
   "id": "4b3d56cd-9ce7-431a-b142-40a323cc55bc",
   "metadata": {},
   "outputs": [],
   "source": [
    "pmf2 = Pmf(pmf)"
   ]
  },
  {
   "cell_type": "code",
   "execution_count": 9,
   "id": "a658c29a-e716-4a18-a882-c3fd80feffde",
   "metadata": {},
   "outputs": [
    {
     "data": {
      "text/plain": [
       "True"
      ]
     },
     "execution_count": 9,
     "metadata": {},
     "output_type": "execute_result"
    }
   ],
   "source": [
    "authors_mean = pmf2.Mean()\n",
    "mymean == authors_mean"
   ]
  },
  {
   "cell_type": "code",
   "execution_count": 10,
   "id": "cabac785-d424-4096-9a81-d24ddf32b269",
   "metadata": {},
   "outputs": [
    {
     "data": {
      "text/plain": [
       "True"
      ]
     },
     "execution_count": 10,
     "metadata": {},
     "output_type": "execute_result"
    }
   ],
   "source": [
    "authors_variance = pmf2.Var()\n",
    "myvariance == authors_variance"
   ]
  },
  {
   "cell_type": "code",
   "execution_count": null,
   "id": "4e1401ed-df68-491a-b23f-1f657cab8d8f",
   "metadata": {},
   "outputs": [],
   "source": []
  }
 ],
 "metadata": {
  "kernelspec": {
   "display_name": "Python 3 (ipykernel)",
   "language": "python",
   "name": "python3"
  },
  "language_info": {
   "codemirror_mode": {
    "name": "ipython",
    "version": 3
   },
   "file_extension": ".py",
   "mimetype": "text/x-python",
   "name": "python",
   "nbconvert_exporter": "python",
   "pygments_lexer": "ipython3",
   "version": "3.9.6"
  }
 },
 "nbformat": 4,
 "nbformat_minor": 5
}
