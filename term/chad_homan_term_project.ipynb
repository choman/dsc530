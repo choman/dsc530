{
 "cells": [
  {
   "cell_type": "markdown",
   "id": "1843ea02-cac3-4e83-b226-d00c14ef55db",
   "metadata": {},
   "source": [
    "Project idea number 1\n",
    "What OS has the most vulnerabilities\n"
   ]
  },
  {
   "cell_type": "code",
   "execution_count": 1,
   "id": "9974ba62-b59a-4f9c-a69a-7c432fa05ef9",
   "metadata": {},
   "outputs": [],
   "source": [
    "import numpy as np\n",
    "import scipy as sp\n",
    "import pandas as pd\n",
    "\n",
    "from collections import Counter"
   ]
  },
  {
   "cell_type": "code",
   "execution_count": 2,
   "id": "13e73361-45c4-4335-824f-080bbd5f507c",
   "metadata": {},
   "outputs": [
    {
     "data": {
      "text/plain": [
       "Index(['vendor'], dtype='object')"
      ]
     },
     "execution_count": 2,
     "metadata": {},
     "output_type": "execute_result"
    }
   ],
   "source": [
    "vendors = pd.read_csv('vendors.csv.xz', compression='xz', index_col=0)\n",
    "vendors.columns"
   ]
  },
  {
   "cell_type": "code",
   "execution_count": 3,
   "id": "36b29963-3110-413f-acad-23497bb13488",
   "metadata": {},
   "outputs": [
    {
     "data": {
      "text/html": [
       "<div>\n",
       "<style scoped>\n",
       "    .dataframe tbody tr th:only-of-type {\n",
       "        vertical-align: middle;\n",
       "    }\n",
       "\n",
       "    .dataframe tbody tr th {\n",
       "        vertical-align: top;\n",
       "    }\n",
       "\n",
       "    .dataframe thead th {\n",
       "        text-align: right;\n",
       "    }\n",
       "</style>\n",
       "<table border=\"1\" class=\"dataframe\">\n",
       "  <thead>\n",
       "    <tr style=\"text-align: right;\">\n",
       "      <th></th>\n",
       "      <th>vendor</th>\n",
       "      <th>product</th>\n",
       "    </tr>\n",
       "  </thead>\n",
       "  <tbody>\n",
       "    <tr>\n",
       "      <th>0</th>\n",
       "      <td>jenkins</td>\n",
       "      <td>google_compute_engine</td>\n",
       "    </tr>\n",
       "    <tr>\n",
       "      <th>1</th>\n",
       "      <td>dolibarr</td>\n",
       "      <td>dolibarr</td>\n",
       "    </tr>\n",
       "    <tr>\n",
       "      <th>2</th>\n",
       "      <td>mediawiki</td>\n",
       "      <td>mediawiki</td>\n",
       "    </tr>\n",
       "    <tr>\n",
       "      <th>3</th>\n",
       "      <td>debian</td>\n",
       "      <td>debian_linux</td>\n",
       "    </tr>\n",
       "    <tr>\n",
       "      <th>4</th>\n",
       "      <td>redhat</td>\n",
       "      <td>enterprise_linux</td>\n",
       "    </tr>\n",
       "    <tr>\n",
       "      <th>...</th>\n",
       "      <td>...</td>\n",
       "      <td>...</td>\n",
       "    </tr>\n",
       "    <tr>\n",
       "      <th>43076</th>\n",
       "      <td>coxco_support</td>\n",
       "      <td>midicart_asp</td>\n",
       "    </tr>\n",
       "    <tr>\n",
       "      <th>43077</th>\n",
       "      <td>coxco_support</td>\n",
       "      <td>midicart_asp_maxi</td>\n",
       "    </tr>\n",
       "    <tr>\n",
       "      <th>43078</th>\n",
       "      <td>coxco_support</td>\n",
       "      <td>midicart_asp_plus</td>\n",
       "    </tr>\n",
       "    <tr>\n",
       "      <th>43079</th>\n",
       "      <td>coxco_support</td>\n",
       "      <td>salescart-pro</td>\n",
       "    </tr>\n",
       "    <tr>\n",
       "      <th>43080</th>\n",
       "      <td>coxco_support</td>\n",
       "      <td>salescart-std</td>\n",
       "    </tr>\n",
       "  </tbody>\n",
       "</table>\n",
       "<p>43081 rows × 2 columns</p>\n",
       "</div>"
      ],
      "text/plain": [
       "              vendor                product\n",
       "0            jenkins  google_compute_engine\n",
       "1           dolibarr               dolibarr\n",
       "2          mediawiki              mediawiki\n",
       "3             debian           debian_linux\n",
       "4             redhat       enterprise_linux\n",
       "...              ...                    ...\n",
       "43076  coxco_support           midicart_asp\n",
       "43077  coxco_support      midicart_asp_maxi\n",
       "43078  coxco_support      midicart_asp_plus\n",
       "43079  coxco_support          salescart-pro\n",
       "43080  coxco_support          salescart-std\n",
       "\n",
       "[43081 rows x 2 columns]"
      ]
     },
     "execution_count": 3,
     "metadata": {},
     "output_type": "execute_result"
    }
   ],
   "source": [
    "vendor_products = pd.read_csv('vendor_product.csv.xz', compression='xz', index_col=0)\n",
    "vendor_products"
   ]
  },
  {
   "cell_type": "code",
   "execution_count": 4,
   "id": "6f20164c-6e8a-4b84-997c-bb25c0a18a6c",
   "metadata": {},
   "outputs": [
    {
     "data": {
      "text/plain": [
       "Index(['vulnerable_product'], dtype='object')"
      ]
     },
     "execution_count": 4,
     "metadata": {},
     "output_type": "execute_result"
    }
   ],
   "source": [
    "products = pd.read_csv('products.csv.xz', compression='xz', header=0, index_col=0)\n",
    "products.columns"
   ]
  },
  {
   "cell_type": "markdown",
   "id": "14460849-92f8-4d6b-b07f-0f957a3813c6",
   "metadata": {},
   "source": [
    "## How I Chose My Variables\n",
    "\n",
    "\n",
    "I will  be pulling 3 windows variables (win10, win2016, and win2019), 1 linux variable (ubuntu \n",
    "linux) and finally 1 mac variable. This will be one of the primary challenges. Let me explain. \n",
    "\n",
    "First off, I chose these because they are arguably the most popular choices of their \"class\". \n",
    "Most people agree that there is a thing called \"the main three\".  Window, Linux and Mac.\n",
    "\n",
    "Windows it predominantly owned and ran by Microsoft. Mac is controlled and ran by Apple, but at \n",
    "it's core it is based on BSD Linux. From which there are many distributions derived from. For \n",
    "example: openBSD, freeBSD and netBSD to name a few. Yes there are more, some are specialized\n",
    "for use as a firewall or a storage system. In the Linux camp, there are over 500 distributions.\n",
    "Like BSD, many are specialized distributions, but many are server and desktop oriented. The most \n",
    "popular Linux distributions include Ubuntu, Pop, Fedora and openSUSE. The top chair is in flux \n",
    "between Ubuntu and Pop, But I feel Ubuntu has a better market share.\n"
   ]
  },
  {
   "cell_type": "markdown",
   "id": "69fc40df-aec5-4b9e-b7e6-80d17464dc19",
   "metadata": {},
   "source": [
    "## Know Issues With My Variables\n",
    "\n",
    "Now back to the comment of challenges with my variables.\n",
    "\n",
    "Let's start with mac 10. From the mac10 point of view, mac10 is a desktop that many people use. \n",
    "However, there is no record \"server\" release of mac10. Or any other version of mac that I can\n",
    "remember. By itself, this is find that I could cross compare this with win10 (Microsoft's \n",
    "desktop). But I am comparing the Ubuntu Linux Desktop as well.Ubuntu has both a desktop and a \n",
    "server release, there is my dilemma. the dataset does not differentiate between desktop and \n",
    "server (nor should it). Why? \n",
    "\n",
    "The server and desktop release is from the same baseline. So a given binary is more than likely \n",
    "the same binary on both server and desktop. But  there are binaries on server and binaries on \n",
    "desktop that do not exist on the alternate system. So to be fair, I will include the win2016 \n",
    "and win2019 to help cross compare more fairly against the windows platform. Now microsoft \n",
    "typically release separate patches on the server release vs the desktop vs the other server \n",
    "releases. This hint that Microsoft is maintaining separate baselines for each system.\n",
    "\n",
    "Another dilemma is that Microsoft is known not to be very forthcoming with CVEs. This means \n",
    "that there could be far more CVEs against Microsoft products then in the public knowledge base \n",
    "of CVEs. And Microsoft have CVEs that they have deemed obsolete in their eyes, meaning it's a \n",
    "CVE but they refuse to fix. WTH! That's right, they intentionally leave things vulnerable. \n",
    "Why? Don't know! I agree, it is dumb.\n",
    "\n",
    "So these things make this a difficult analysis of these systems. because mac will not \n",
    "participate well not having a server release. "
   ]
  },
  {
   "cell_type": "code",
   "execution_count": 5,
   "id": "29338b22-e2a8-48f6-874d-343aa7de9361",
   "metadata": {},
   "outputs": [
    {
     "data": {
      "text/plain": [
       "Index(['mod_date', 'pub_date', 'cvss', 'cwe_code', 'cwe_name', 'summary',\n",
       "       'access_authentication', 'access_complexity', 'access_vector',\n",
       "       'impact_availability', 'impact_confidentiality', 'impact_integrity'],\n",
       "      dtype='object')"
      ]
     },
     "execution_count": 5,
     "metadata": {},
     "output_type": "execute_result"
    }
   ],
   "source": [
    "cves = pd.read_csv('cve.csv.xz',  compression='xz', header=0, index_col=0)\n",
    "cves.columns"
   ]
  },
  {
   "cell_type": "code",
   "execution_count": 6,
   "id": "a147ad19-b27a-4ba2-b308-296049e48fbe",
   "metadata": {},
   "outputs": [
    {
     "data": {
      "text/html": [
       "<div>\n",
       "<style scoped>\n",
       "    .dataframe tbody tr th:only-of-type {\n",
       "        vertical-align: middle;\n",
       "    }\n",
       "\n",
       "    .dataframe tbody tr th {\n",
       "        vertical-align: top;\n",
       "    }\n",
       "\n",
       "    .dataframe thead th {\n",
       "        text-align: right;\n",
       "    }\n",
       "</style>\n",
       "<table border=\"1\" class=\"dataframe\">\n",
       "  <thead>\n",
       "    <tr style=\"text-align: right;\">\n",
       "      <th></th>\n",
       "      <th>vulnerable_product</th>\n",
       "    </tr>\n",
       "    <tr>\n",
       "      <th>cve_id</th>\n",
       "      <th></th>\n",
       "    </tr>\n",
       "  </thead>\n",
       "  <tbody>\n",
       "    <tr>\n",
       "      <th>CVE-2019-16548</th>\n",
       "      <td>google_compute_engine</td>\n",
       "    </tr>\n",
       "    <tr>\n",
       "      <th>CVE-2019-16547</th>\n",
       "      <td>google_compute_engine</td>\n",
       "    </tr>\n",
       "    <tr>\n",
       "      <th>CVE-2019-16546</th>\n",
       "      <td>google_compute_engine</td>\n",
       "    </tr>\n",
       "    <tr>\n",
       "      <th>CVE-2013-2092</th>\n",
       "      <td>dolibarr</td>\n",
       "    </tr>\n",
       "    <tr>\n",
       "      <th>CVE-2013-2091</th>\n",
       "      <td>dolibarr</td>\n",
       "    </tr>\n",
       "    <tr>\n",
       "      <th>...</th>\n",
       "      <td>...</td>\n",
       "    </tr>\n",
       "    <tr>\n",
       "      <th>CVE-2007-6444</th>\n",
       "      <td>NaN</td>\n",
       "    </tr>\n",
       "    <tr>\n",
       "      <th>CVE-2007-6443</th>\n",
       "      <td>NaN</td>\n",
       "    </tr>\n",
       "    <tr>\n",
       "      <th>CVE-2007-6442</th>\n",
       "      <td>NaN</td>\n",
       "    </tr>\n",
       "    <tr>\n",
       "      <th>CVE-2007-6370</th>\n",
       "      <td>NaN</td>\n",
       "    </tr>\n",
       "    <tr>\n",
       "      <th>CVE-2007-3004</th>\n",
       "      <td>NaN</td>\n",
       "    </tr>\n",
       "  </tbody>\n",
       "</table>\n",
       "<p>180585 rows × 1 columns</p>\n",
       "</div>"
      ],
      "text/plain": [
       "                   vulnerable_product\n",
       "cve_id                               \n",
       "CVE-2019-16548  google_compute_engine\n",
       "CVE-2019-16547  google_compute_engine\n",
       "CVE-2019-16546  google_compute_engine\n",
       "CVE-2013-2092                dolibarr\n",
       "CVE-2013-2091                dolibarr\n",
       "...                               ...\n",
       "CVE-2007-6444                     NaN\n",
       "CVE-2007-6443                     NaN\n",
       "CVE-2007-6442                     NaN\n",
       "CVE-2007-6370                     NaN\n",
       "CVE-2007-3004                     NaN\n",
       "\n",
       "[180585 rows x 1 columns]"
      ]
     },
     "execution_count": 6,
     "metadata": {},
     "output_type": "execute_result"
    }
   ],
   "source": [
    "products"
   ]
  },
  {
   "cell_type": "code",
   "execution_count": 7,
   "id": "7a817d54-6a9f-4d90-a3c5-5f5286139d61",
   "metadata": {},
   "outputs": [
    {
     "data": {
      "text/html": [
       "<div>\n",
       "<style scoped>\n",
       "    .dataframe tbody tr th:only-of-type {\n",
       "        vertical-align: middle;\n",
       "    }\n",
       "\n",
       "    .dataframe tbody tr th {\n",
       "        vertical-align: top;\n",
       "    }\n",
       "\n",
       "    .dataframe thead th {\n",
       "        text-align: right;\n",
       "    }\n",
       "</style>\n",
       "<table border=\"1\" class=\"dataframe\">\n",
       "  <thead>\n",
       "    <tr style=\"text-align: right;\">\n",
       "      <th></th>\n",
       "      <th>mod_date</th>\n",
       "      <th>pub_date</th>\n",
       "      <th>cvss</th>\n",
       "      <th>cwe_code</th>\n",
       "      <th>cwe_name</th>\n",
       "      <th>summary</th>\n",
       "      <th>access_authentication</th>\n",
       "      <th>access_complexity</th>\n",
       "      <th>access_vector</th>\n",
       "      <th>impact_availability</th>\n",
       "      <th>impact_confidentiality</th>\n",
       "      <th>impact_integrity</th>\n",
       "    </tr>\n",
       "  </thead>\n",
       "  <tbody>\n",
       "    <tr>\n",
       "      <th>CVE-2019-16548</th>\n",
       "      <td>2019-11-21 15:15:00</td>\n",
       "      <td>2019-11-21 15:15:00</td>\n",
       "      <td>6.8</td>\n",
       "      <td>352</td>\n",
       "      <td>Cross-Site Request Forgery (CSRF)</td>\n",
       "      <td>A cross-site request forgery vulnerability in ...</td>\n",
       "      <td>NaN</td>\n",
       "      <td>NaN</td>\n",
       "      <td>NaN</td>\n",
       "      <td>NaN</td>\n",
       "      <td>NaN</td>\n",
       "      <td>NaN</td>\n",
       "    </tr>\n",
       "    <tr>\n",
       "      <th>CVE-2019-16547</th>\n",
       "      <td>2019-11-21 15:15:00</td>\n",
       "      <td>2019-11-21 15:15:00</td>\n",
       "      <td>4.0</td>\n",
       "      <td>732</td>\n",
       "      <td>Incorrect Permission Assignment for Critical ...</td>\n",
       "      <td>Missing permission checks in various API endpo...</td>\n",
       "      <td>NaN</td>\n",
       "      <td>NaN</td>\n",
       "      <td>NaN</td>\n",
       "      <td>NaN</td>\n",
       "      <td>NaN</td>\n",
       "      <td>NaN</td>\n",
       "    </tr>\n",
       "    <tr>\n",
       "      <th>CVE-2019-16546</th>\n",
       "      <td>2019-11-21 15:15:00</td>\n",
       "      <td>2019-11-21 15:15:00</td>\n",
       "      <td>4.3</td>\n",
       "      <td>639</td>\n",
       "      <td>Authorization Bypass Through User-Controlled Key</td>\n",
       "      <td>Jenkins Google Compute Engine Plugin 4.1.1 and...</td>\n",
       "      <td>NaN</td>\n",
       "      <td>NaN</td>\n",
       "      <td>NaN</td>\n",
       "      <td>NaN</td>\n",
       "      <td>NaN</td>\n",
       "      <td>NaN</td>\n",
       "    </tr>\n",
       "    <tr>\n",
       "      <th>CVE-2013-2092</th>\n",
       "      <td>2019-11-20 21:22:00</td>\n",
       "      <td>2019-11-20 21:15:00</td>\n",
       "      <td>4.3</td>\n",
       "      <td>79</td>\n",
       "      <td>Improper Neutralization of Input During Web P...</td>\n",
       "      <td>Cross-site Scripting (XSS) in Dolibarr ERP/CRM...</td>\n",
       "      <td>NaN</td>\n",
       "      <td>NaN</td>\n",
       "      <td>NaN</td>\n",
       "      <td>NaN</td>\n",
       "      <td>NaN</td>\n",
       "      <td>NaN</td>\n",
       "    </tr>\n",
       "    <tr>\n",
       "      <th>CVE-2013-2091</th>\n",
       "      <td>2019-11-20 20:15:00</td>\n",
       "      <td>2019-11-20 20:15:00</td>\n",
       "      <td>7.5</td>\n",
       "      <td>89</td>\n",
       "      <td>Improper Neutralization of Special Elements u...</td>\n",
       "      <td>SQL injection vulnerability in Dolibarr ERP/CR...</td>\n",
       "      <td>NaN</td>\n",
       "      <td>NaN</td>\n",
       "      <td>NaN</td>\n",
       "      <td>NaN</td>\n",
       "      <td>NaN</td>\n",
       "      <td>NaN</td>\n",
       "    </tr>\n",
       "    <tr>\n",
       "      <th>...</th>\n",
       "      <td>...</td>\n",
       "      <td>...</td>\n",
       "      <td>...</td>\n",
       "      <td>...</td>\n",
       "      <td>...</td>\n",
       "      <td>...</td>\n",
       "      <td>...</td>\n",
       "      <td>...</td>\n",
       "      <td>...</td>\n",
       "      <td>...</td>\n",
       "      <td>...</td>\n",
       "      <td>...</td>\n",
       "    </tr>\n",
       "    <tr>\n",
       "      <th>CVE-2007-6444</th>\n",
       "      <td>2008-01-10 05:00:00</td>\n",
       "      <td>2007-12-19 22:46:00</td>\n",
       "      <td>5.0</td>\n",
       "      <td>20</td>\n",
       "      <td>Improper Input Validation</td>\n",
       "      <td>** REJECT **  DO NOT USE THIS CANDIDATE NUMBER...</td>\n",
       "      <td>NaN</td>\n",
       "      <td>NaN</td>\n",
       "      <td>NaN</td>\n",
       "      <td>NaN</td>\n",
       "      <td>NaN</td>\n",
       "      <td>NaN</td>\n",
       "    </tr>\n",
       "    <tr>\n",
       "      <th>CVE-2007-6443</th>\n",
       "      <td>2008-01-10 05:00:00</td>\n",
       "      <td>2007-12-19 22:46:00</td>\n",
       "      <td>5.0</td>\n",
       "      <td>119</td>\n",
       "      <td>Improper Restriction of Operations within the...</td>\n",
       "      <td>** REJECT **  DO NOT USE THIS CANDIDATE NUMBER...</td>\n",
       "      <td>NaN</td>\n",
       "      <td>NaN</td>\n",
       "      <td>NaN</td>\n",
       "      <td>NaN</td>\n",
       "      <td>NaN</td>\n",
       "      <td>NaN</td>\n",
       "    </tr>\n",
       "    <tr>\n",
       "      <th>CVE-2007-6442</th>\n",
       "      <td>2008-01-10 05:00:00</td>\n",
       "      <td>2007-12-19 22:46:00</td>\n",
       "      <td>5.0</td>\n",
       "      <td>119</td>\n",
       "      <td>Improper Restriction of Operations within the...</td>\n",
       "      <td>** REJECT **  DO NOT USE THIS CANDIDATE NUMBER...</td>\n",
       "      <td>NaN</td>\n",
       "      <td>NaN</td>\n",
       "      <td>NaN</td>\n",
       "      <td>NaN</td>\n",
       "      <td>NaN</td>\n",
       "      <td>NaN</td>\n",
       "    </tr>\n",
       "    <tr>\n",
       "      <th>CVE-2007-6370</th>\n",
       "      <td>2008-01-10 05:00:00</td>\n",
       "      <td>2007-12-15 01:46:00</td>\n",
       "      <td>5.0</td>\n",
       "      <td>119</td>\n",
       "      <td>Improper Restriction of Operations within the...</td>\n",
       "      <td>** REJECT **  DO NOT USE THIS CANDIDATE NUMBER...</td>\n",
       "      <td>NaN</td>\n",
       "      <td>NaN</td>\n",
       "      <td>NaN</td>\n",
       "      <td>NaN</td>\n",
       "      <td>NaN</td>\n",
       "      <td>NaN</td>\n",
       "    </tr>\n",
       "    <tr>\n",
       "      <th>CVE-2007-3004</th>\n",
       "      <td>2008-01-10 05:00:00</td>\n",
       "      <td>2007-06-04 17:30:00</td>\n",
       "      <td>5.0</td>\n",
       "      <td>119</td>\n",
       "      <td>Improper Restriction of Operations within the...</td>\n",
       "      <td>** REJECT **  DO NOT USE THIS CANDIDATE NUMBER...</td>\n",
       "      <td>NaN</td>\n",
       "      <td>NaN</td>\n",
       "      <td>NaN</td>\n",
       "      <td>NaN</td>\n",
       "      <td>NaN</td>\n",
       "      <td>NaN</td>\n",
       "    </tr>\n",
       "  </tbody>\n",
       "</table>\n",
       "<p>89660 rows × 12 columns</p>\n",
       "</div>"
      ],
      "text/plain": [
       "                           mod_date             pub_date  cvss  cwe_code  \\\n",
       "CVE-2019-16548  2019-11-21 15:15:00  2019-11-21 15:15:00   6.8       352   \n",
       "CVE-2019-16547  2019-11-21 15:15:00  2019-11-21 15:15:00   4.0       732   \n",
       "CVE-2019-16546  2019-11-21 15:15:00  2019-11-21 15:15:00   4.3       639   \n",
       "CVE-2013-2092   2019-11-20 21:22:00  2019-11-20 21:15:00   4.3        79   \n",
       "CVE-2013-2091   2019-11-20 20:15:00  2019-11-20 20:15:00   7.5        89   \n",
       "...                             ...                  ...   ...       ...   \n",
       "CVE-2007-6444   2008-01-10 05:00:00  2007-12-19 22:46:00   5.0        20   \n",
       "CVE-2007-6443   2008-01-10 05:00:00  2007-12-19 22:46:00   5.0       119   \n",
       "CVE-2007-6442   2008-01-10 05:00:00  2007-12-19 22:46:00   5.0       119   \n",
       "CVE-2007-6370   2008-01-10 05:00:00  2007-12-15 01:46:00   5.0       119   \n",
       "CVE-2007-3004   2008-01-10 05:00:00  2007-06-04 17:30:00   5.0       119   \n",
       "\n",
       "                                                         cwe_name  \\\n",
       "CVE-2019-16548                  Cross-Site Request Forgery (CSRF)   \n",
       "CVE-2019-16547   Incorrect Permission Assignment for Critical ...   \n",
       "CVE-2019-16546   Authorization Bypass Through User-Controlled Key   \n",
       "CVE-2013-2092    Improper Neutralization of Input During Web P...   \n",
       "CVE-2013-2091    Improper Neutralization of Special Elements u...   \n",
       "...                                                           ...   \n",
       "CVE-2007-6444                           Improper Input Validation   \n",
       "CVE-2007-6443    Improper Restriction of Operations within the...   \n",
       "CVE-2007-6442    Improper Restriction of Operations within the...   \n",
       "CVE-2007-6370    Improper Restriction of Operations within the...   \n",
       "CVE-2007-3004    Improper Restriction of Operations within the...   \n",
       "\n",
       "                                                          summary  \\\n",
       "CVE-2019-16548  A cross-site request forgery vulnerability in ...   \n",
       "CVE-2019-16547  Missing permission checks in various API endpo...   \n",
       "CVE-2019-16546  Jenkins Google Compute Engine Plugin 4.1.1 and...   \n",
       "CVE-2013-2092   Cross-site Scripting (XSS) in Dolibarr ERP/CRM...   \n",
       "CVE-2013-2091   SQL injection vulnerability in Dolibarr ERP/CR...   \n",
       "...                                                           ...   \n",
       "CVE-2007-6444   ** REJECT **  DO NOT USE THIS CANDIDATE NUMBER...   \n",
       "CVE-2007-6443   ** REJECT **  DO NOT USE THIS CANDIDATE NUMBER...   \n",
       "CVE-2007-6442   ** REJECT **  DO NOT USE THIS CANDIDATE NUMBER...   \n",
       "CVE-2007-6370   ** REJECT **  DO NOT USE THIS CANDIDATE NUMBER...   \n",
       "CVE-2007-3004   ** REJECT **  DO NOT USE THIS CANDIDATE NUMBER...   \n",
       "\n",
       "               access_authentication access_complexity access_vector  \\\n",
       "CVE-2019-16548                   NaN               NaN           NaN   \n",
       "CVE-2019-16547                   NaN               NaN           NaN   \n",
       "CVE-2019-16546                   NaN               NaN           NaN   \n",
       "CVE-2013-2092                    NaN               NaN           NaN   \n",
       "CVE-2013-2091                    NaN               NaN           NaN   \n",
       "...                              ...               ...           ...   \n",
       "CVE-2007-6444                    NaN               NaN           NaN   \n",
       "CVE-2007-6443                    NaN               NaN           NaN   \n",
       "CVE-2007-6442                    NaN               NaN           NaN   \n",
       "CVE-2007-6370                    NaN               NaN           NaN   \n",
       "CVE-2007-3004                    NaN               NaN           NaN   \n",
       "\n",
       "               impact_availability impact_confidentiality impact_integrity  \n",
       "CVE-2019-16548                 NaN                    NaN              NaN  \n",
       "CVE-2019-16547                 NaN                    NaN              NaN  \n",
       "CVE-2019-16546                 NaN                    NaN              NaN  \n",
       "CVE-2013-2092                  NaN                    NaN              NaN  \n",
       "CVE-2013-2091                  NaN                    NaN              NaN  \n",
       "...                            ...                    ...              ...  \n",
       "CVE-2007-6444                  NaN                    NaN              NaN  \n",
       "CVE-2007-6443                  NaN                    NaN              NaN  \n",
       "CVE-2007-6442                  NaN                    NaN              NaN  \n",
       "CVE-2007-6370                  NaN                    NaN              NaN  \n",
       "CVE-2007-3004                  NaN                    NaN              NaN  \n",
       "\n",
       "[89660 rows x 12 columns]"
      ]
     },
     "execution_count": 7,
     "metadata": {},
     "output_type": "execute_result"
    }
   ],
   "source": [
    "cves"
   ]
  },
  {
   "cell_type": "code",
   "execution_count": 8,
   "id": "85a647b0-7dce-4418-a3c0-c2aac30d484e",
   "metadata": {},
   "outputs": [
    {
     "data": {
      "text/html": [
       "<div>\n",
       "<style scoped>\n",
       "    .dataframe tbody tr th:only-of-type {\n",
       "        vertical-align: middle;\n",
       "    }\n",
       "\n",
       "    .dataframe tbody tr th {\n",
       "        vertical-align: top;\n",
       "    }\n",
       "\n",
       "    .dataframe thead th {\n",
       "        text-align: right;\n",
       "    }\n",
       "</style>\n",
       "<table border=\"1\" class=\"dataframe\">\n",
       "  <thead>\n",
       "    <tr style=\"text-align: right;\">\n",
       "      <th></th>\n",
       "      <th>vendor</th>\n",
       "    </tr>\n",
       "  </thead>\n",
       "  <tbody>\n",
       "    <tr>\n",
       "      <th>CVE-2019-16548</th>\n",
       "      <td>jenkins</td>\n",
       "    </tr>\n",
       "    <tr>\n",
       "      <th>CVE-2019-16547</th>\n",
       "      <td>jenkins</td>\n",
       "    </tr>\n",
       "    <tr>\n",
       "      <th>CVE-2019-16546</th>\n",
       "      <td>jenkins</td>\n",
       "    </tr>\n",
       "    <tr>\n",
       "      <th>CVE-2013-2092</th>\n",
       "      <td>dolibarr</td>\n",
       "    </tr>\n",
       "    <tr>\n",
       "      <th>CVE-2013-2091</th>\n",
       "      <td>dolibarr</td>\n",
       "    </tr>\n",
       "    <tr>\n",
       "      <th>...</th>\n",
       "      <td>...</td>\n",
       "    </tr>\n",
       "    <tr>\n",
       "      <th>CVE-2007-6444</th>\n",
       "      <td>NaN</td>\n",
       "    </tr>\n",
       "    <tr>\n",
       "      <th>CVE-2007-6443</th>\n",
       "      <td>NaN</td>\n",
       "    </tr>\n",
       "    <tr>\n",
       "      <th>CVE-2007-6442</th>\n",
       "      <td>NaN</td>\n",
       "    </tr>\n",
       "    <tr>\n",
       "      <th>CVE-2007-6370</th>\n",
       "      <td>NaN</td>\n",
       "    </tr>\n",
       "    <tr>\n",
       "      <th>CVE-2007-3004</th>\n",
       "      <td>NaN</td>\n",
       "    </tr>\n",
       "  </tbody>\n",
       "</table>\n",
       "<p>101658 rows × 1 columns</p>\n",
       "</div>"
      ],
      "text/plain": [
       "                  vendor\n",
       "CVE-2019-16548   jenkins\n",
       "CVE-2019-16547   jenkins\n",
       "CVE-2019-16546   jenkins\n",
       "CVE-2013-2092   dolibarr\n",
       "CVE-2013-2091   dolibarr\n",
       "...                  ...\n",
       "CVE-2007-6444        NaN\n",
       "CVE-2007-6443        NaN\n",
       "CVE-2007-6442        NaN\n",
       "CVE-2007-6370        NaN\n",
       "CVE-2007-3004        NaN\n",
       "\n",
       "[101658 rows x 1 columns]"
      ]
     },
     "execution_count": 8,
     "metadata": {},
     "output_type": "execute_result"
    }
   ],
   "source": [
    "vendors"
   ]
  },
  {
   "cell_type": "code",
   "execution_count": null,
   "id": "db62e9ec-bfee-406e-8f49-8ce6861664e3",
   "metadata": {},
   "outputs": [],
   "source": []
  },
  {
   "cell_type": "code",
   "execution_count": 9,
   "id": "588ccf15-dc38-4b85-9264-3b8c8b6a5507",
   "metadata": {},
   "outputs": [
    {
     "data": {
      "text/html": [
       "<div>\n",
       "<style scoped>\n",
       "    .dataframe tbody tr th:only-of-type {\n",
       "        vertical-align: middle;\n",
       "    }\n",
       "\n",
       "    .dataframe tbody tr th {\n",
       "        vertical-align: top;\n",
       "    }\n",
       "\n",
       "    .dataframe thead th {\n",
       "        text-align: right;\n",
       "    }\n",
       "</style>\n",
       "<table border=\"1\" class=\"dataframe\">\n",
       "  <thead>\n",
       "    <tr style=\"text-align: right;\">\n",
       "      <th></th>\n",
       "      <th>vendor</th>\n",
       "      <th>product</th>\n",
       "    </tr>\n",
       "  </thead>\n",
       "  <tbody>\n",
       "    <tr>\n",
       "      <th>0</th>\n",
       "      <td>jenkins</td>\n",
       "      <td>google_compute_engine</td>\n",
       "    </tr>\n",
       "    <tr>\n",
       "      <th>1</th>\n",
       "      <td>dolibarr</td>\n",
       "      <td>dolibarr</td>\n",
       "    </tr>\n",
       "    <tr>\n",
       "      <th>2</th>\n",
       "      <td>mediawiki</td>\n",
       "      <td>mediawiki</td>\n",
       "    </tr>\n",
       "    <tr>\n",
       "      <th>3</th>\n",
       "      <td>debian</td>\n",
       "      <td>debian_linux</td>\n",
       "    </tr>\n",
       "    <tr>\n",
       "      <th>4</th>\n",
       "      <td>redhat</td>\n",
       "      <td>enterprise_linux</td>\n",
       "    </tr>\n",
       "    <tr>\n",
       "      <th>...</th>\n",
       "      <td>...</td>\n",
       "      <td>...</td>\n",
       "    </tr>\n",
       "    <tr>\n",
       "      <th>43076</th>\n",
       "      <td>coxco_support</td>\n",
       "      <td>midicart_asp</td>\n",
       "    </tr>\n",
       "    <tr>\n",
       "      <th>43077</th>\n",
       "      <td>coxco_support</td>\n",
       "      <td>midicart_asp_maxi</td>\n",
       "    </tr>\n",
       "    <tr>\n",
       "      <th>43078</th>\n",
       "      <td>coxco_support</td>\n",
       "      <td>midicart_asp_plus</td>\n",
       "    </tr>\n",
       "    <tr>\n",
       "      <th>43079</th>\n",
       "      <td>coxco_support</td>\n",
       "      <td>salescart-pro</td>\n",
       "    </tr>\n",
       "    <tr>\n",
       "      <th>43080</th>\n",
       "      <td>coxco_support</td>\n",
       "      <td>salescart-std</td>\n",
       "    </tr>\n",
       "  </tbody>\n",
       "</table>\n",
       "<p>43081 rows × 2 columns</p>\n",
       "</div>"
      ],
      "text/plain": [
       "              vendor                product\n",
       "0            jenkins  google_compute_engine\n",
       "1           dolibarr               dolibarr\n",
       "2          mediawiki              mediawiki\n",
       "3             debian           debian_linux\n",
       "4             redhat       enterprise_linux\n",
       "...              ...                    ...\n",
       "43076  coxco_support           midicart_asp\n",
       "43077  coxco_support      midicart_asp_maxi\n",
       "43078  coxco_support      midicart_asp_plus\n",
       "43079  coxco_support          salescart-pro\n",
       "43080  coxco_support          salescart-std\n",
       "\n",
       "[43081 rows x 2 columns]"
      ]
     },
     "execution_count": 9,
     "metadata": {},
     "output_type": "execute_result"
    }
   ],
   "source": [
    "vendor_products"
   ]
  },
  {
   "cell_type": "code",
   "execution_count": 10,
   "id": "254b2d66-e51f-461b-ab3c-75caad112aa7",
   "metadata": {},
   "outputs": [
    {
     "data": {
      "text/html": [
       "<div>\n",
       "<style scoped>\n",
       "    .dataframe tbody tr th:only-of-type {\n",
       "        vertical-align: middle;\n",
       "    }\n",
       "\n",
       "    .dataframe tbody tr th {\n",
       "        vertical-align: top;\n",
       "    }\n",
       "\n",
       "    .dataframe thead th {\n",
       "        text-align: right;\n",
       "    }\n",
       "</style>\n",
       "<table border=\"1\" class=\"dataframe\">\n",
       "  <thead>\n",
       "    <tr style=\"text-align: right;\">\n",
       "      <th></th>\n",
       "      <th>vulnerable_product</th>\n",
       "    </tr>\n",
       "    <tr>\n",
       "      <th>cve_id</th>\n",
       "      <th></th>\n",
       "    </tr>\n",
       "  </thead>\n",
       "  <tbody>\n",
       "    <tr>\n",
       "      <th>CVE-2019-16548</th>\n",
       "      <td>google_compute_engine</td>\n",
       "    </tr>\n",
       "    <tr>\n",
       "      <th>CVE-2019-16547</th>\n",
       "      <td>google_compute_engine</td>\n",
       "    </tr>\n",
       "    <tr>\n",
       "      <th>CVE-2019-16546</th>\n",
       "      <td>google_compute_engine</td>\n",
       "    </tr>\n",
       "    <tr>\n",
       "      <th>CVE-2013-2092</th>\n",
       "      <td>dolibarr</td>\n",
       "    </tr>\n",
       "    <tr>\n",
       "      <th>CVE-2013-2091</th>\n",
       "      <td>dolibarr</td>\n",
       "    </tr>\n",
       "    <tr>\n",
       "      <th>...</th>\n",
       "      <td>...</td>\n",
       "    </tr>\n",
       "    <tr>\n",
       "      <th>CVE-2007-6444</th>\n",
       "      <td>NaN</td>\n",
       "    </tr>\n",
       "    <tr>\n",
       "      <th>CVE-2007-6443</th>\n",
       "      <td>NaN</td>\n",
       "    </tr>\n",
       "    <tr>\n",
       "      <th>CVE-2007-6442</th>\n",
       "      <td>NaN</td>\n",
       "    </tr>\n",
       "    <tr>\n",
       "      <th>CVE-2007-6370</th>\n",
       "      <td>NaN</td>\n",
       "    </tr>\n",
       "    <tr>\n",
       "      <th>CVE-2007-3004</th>\n",
       "      <td>NaN</td>\n",
       "    </tr>\n",
       "  </tbody>\n",
       "</table>\n",
       "<p>180585 rows × 1 columns</p>\n",
       "</div>"
      ],
      "text/plain": [
       "                   vulnerable_product\n",
       "cve_id                               \n",
       "CVE-2019-16548  google_compute_engine\n",
       "CVE-2019-16547  google_compute_engine\n",
       "CVE-2019-16546  google_compute_engine\n",
       "CVE-2013-2092                dolibarr\n",
       "CVE-2013-2091                dolibarr\n",
       "...                               ...\n",
       "CVE-2007-6444                     NaN\n",
       "CVE-2007-6443                     NaN\n",
       "CVE-2007-6442                     NaN\n",
       "CVE-2007-6370                     NaN\n",
       "CVE-2007-3004                     NaN\n",
       "\n",
       "[180585 rows x 1 columns]"
      ]
     },
     "execution_count": 10,
     "metadata": {},
     "output_type": "execute_result"
    }
   ],
   "source": [
    "products"
   ]
  },
  {
   "cell_type": "code",
   "execution_count": 11,
   "id": "99e1d74d-2486-43b1-9410-6a49d25b3bdb",
   "metadata": {},
   "outputs": [
    {
     "data": {
      "text/plain": [
       "cve_id\n",
       "CVE-2019-16548    google_compute_engine\n",
       "CVE-2019-16547    google_compute_engine\n",
       "CVE-2019-16546    google_compute_engine\n",
       "CVE-2013-2092                  dolibarr\n",
       "CVE-2013-2091                  dolibarr\n",
       "                          ...          \n",
       "CVE-2007-6444                       NaN\n",
       "CVE-2007-6443                       NaN\n",
       "CVE-2007-6442                       NaN\n",
       "CVE-2007-6370                       NaN\n",
       "CVE-2007-3004                       NaN\n",
       "Name: vulnerable_product, Length: 180585, dtype: object"
      ]
     },
     "execution_count": 11,
     "metadata": {},
     "output_type": "execute_result"
    }
   ],
   "source": [
    "products.vulnerable_product"
   ]
  },
  {
   "cell_type": "code",
   "execution_count": 12,
   "id": "a05b333a-c6f3-49e2-81d9-e9311d0e48f0",
   "metadata": {},
   "outputs": [],
   "source": [
    "#products.cve_id"
   ]
  },
  {
   "cell_type": "code",
   "execution_count": 13,
   "id": "03894e5f-5d2c-4e00-989e-8304e3bb056d",
   "metadata": {},
   "outputs": [],
   "source": [
    "# newdf = df[(df.origin == \"JFK\") & (df.carrier == \"B6\")]\n",
    "# 2000's\n",
    "#the_2000s = products['cve_id'].str.contains(\"CVE-200\")\n",
    "#the_2000s\n"
   ]
  },
  {
   "cell_type": "code",
   "execution_count": 14,
   "id": "5ed08e9b-0058-4878-b843-33511bc01785",
   "metadata": {},
   "outputs": [
    {
     "data": {
      "text/html": [
       "<div>\n",
       "<style scoped>\n",
       "    .dataframe tbody tr th:only-of-type {\n",
       "        vertical-align: middle;\n",
       "    }\n",
       "\n",
       "    .dataframe tbody tr th {\n",
       "        vertical-align: top;\n",
       "    }\n",
       "\n",
       "    .dataframe thead th {\n",
       "        text-align: right;\n",
       "    }\n",
       "</style>\n",
       "<table border=\"1\" class=\"dataframe\">\n",
       "  <thead>\n",
       "    <tr style=\"text-align: right;\">\n",
       "      <th></th>\n",
       "      <th>vulnerable_product</th>\n",
       "    </tr>\n",
       "    <tr>\n",
       "      <th>cve_id</th>\n",
       "      <th></th>\n",
       "    </tr>\n",
       "  </thead>\n",
       "  <tbody>\n",
       "    <tr>\n",
       "      <th>CVE-2019-1456</th>\n",
       "      <td>windows_10</td>\n",
       "    </tr>\n",
       "    <tr>\n",
       "      <th>CVE-2019-1440</th>\n",
       "      <td>windows_10</td>\n",
       "    </tr>\n",
       "    <tr>\n",
       "      <th>CVE-2019-1439</th>\n",
       "      <td>windows_10</td>\n",
       "    </tr>\n",
       "    <tr>\n",
       "      <th>CVE-2019-1438</th>\n",
       "      <td>windows_10</td>\n",
       "    </tr>\n",
       "    <tr>\n",
       "      <th>CVE-2019-1437</th>\n",
       "      <td>windows_10</td>\n",
       "    </tr>\n",
       "    <tr>\n",
       "      <th>...</th>\n",
       "      <td>...</td>\n",
       "    </tr>\n",
       "    <tr>\n",
       "      <th>CVE-2017-0183</th>\n",
       "      <td>windows_10</td>\n",
       "    </tr>\n",
       "    <tr>\n",
       "      <th>CVE-2017-0182</th>\n",
       "      <td>windows_10</td>\n",
       "    </tr>\n",
       "    <tr>\n",
       "      <th>CVE-2017-0186</th>\n",
       "      <td>windows_10</td>\n",
       "    </tr>\n",
       "    <tr>\n",
       "      <th>CVE-2017-0178</th>\n",
       "      <td>windows_10</td>\n",
       "    </tr>\n",
       "    <tr>\n",
       "      <th>CVE-2017-0184</th>\n",
       "      <td>windows_10</td>\n",
       "    </tr>\n",
       "  </tbody>\n",
       "</table>\n",
       "<p>1039 rows × 1 columns</p>\n",
       "</div>"
      ],
      "text/plain": [
       "              vulnerable_product\n",
       "cve_id                          \n",
       "CVE-2019-1456         windows_10\n",
       "CVE-2019-1440         windows_10\n",
       "CVE-2019-1439         windows_10\n",
       "CVE-2019-1438         windows_10\n",
       "CVE-2019-1437         windows_10\n",
       "...                          ...\n",
       "CVE-2017-0183         windows_10\n",
       "CVE-2017-0182         windows_10\n",
       "CVE-2017-0186         windows_10\n",
       "CVE-2017-0178         windows_10\n",
       "CVE-2017-0184         windows_10\n",
       "\n",
       "[1039 rows x 1 columns]"
      ]
     },
     "execution_count": 14,
     "metadata": {},
     "output_type": "execute_result"
    }
   ],
   "source": [
    "windows_10 = products.query('vulnerable_product == \"windows_10\"')\n",
    "windows_10"
   ]
  },
  {
   "cell_type": "markdown",
   "id": "4451c70b-3412-4c8b-bb67-0d6ce73add2d",
   "metadata": {},
   "source": []
  },
  {
   "cell_type": "code",
   "execution_count": 15,
   "id": "c7625c32-d6a4-496f-bcab-526dbac75fd3",
   "metadata": {},
   "outputs": [
    {
     "data": {
      "text/html": [
       "<div>\n",
       "<style scoped>\n",
       "    .dataframe tbody tr th:only-of-type {\n",
       "        vertical-align: middle;\n",
       "    }\n",
       "\n",
       "    .dataframe tbody tr th {\n",
       "        vertical-align: top;\n",
       "    }\n",
       "\n",
       "    .dataframe thead th {\n",
       "        text-align: right;\n",
       "    }\n",
       "</style>\n",
       "<table border=\"1\" class=\"dataframe\">\n",
       "  <thead>\n",
       "    <tr style=\"text-align: right;\">\n",
       "      <th></th>\n",
       "      <th>vulnerable_product</th>\n",
       "    </tr>\n",
       "    <tr>\n",
       "      <th>cve_id</th>\n",
       "      <th></th>\n",
       "    </tr>\n",
       "  </thead>\n",
       "  <tbody>\n",
       "    <tr>\n",
       "      <th>CVE-2019-1456</th>\n",
       "      <td>windows_server_2016</td>\n",
       "    </tr>\n",
       "    <tr>\n",
       "      <th>CVE-2019-1440</th>\n",
       "      <td>windows_server_2016</td>\n",
       "    </tr>\n",
       "    <tr>\n",
       "      <th>CVE-2019-1439</th>\n",
       "      <td>windows_server_2016</td>\n",
       "    </tr>\n",
       "    <tr>\n",
       "      <th>CVE-2019-1438</th>\n",
       "      <td>windows_server_2016</td>\n",
       "    </tr>\n",
       "    <tr>\n",
       "      <th>CVE-2019-1437</th>\n",
       "      <td>windows_server_2016</td>\n",
       "    </tr>\n",
       "    <tr>\n",
       "      <th>...</th>\n",
       "      <td>...</td>\n",
       "    </tr>\n",
       "    <tr>\n",
       "      <th>CVE-2017-0183</th>\n",
       "      <td>windows_server_2016</td>\n",
       "    </tr>\n",
       "    <tr>\n",
       "      <th>CVE-2017-0182</th>\n",
       "      <td>windows_server_2016</td>\n",
       "    </tr>\n",
       "    <tr>\n",
       "      <th>CVE-2017-0186</th>\n",
       "      <td>windows_server_2016</td>\n",
       "    </tr>\n",
       "    <tr>\n",
       "      <th>CVE-2017-0178</th>\n",
       "      <td>windows_server_2016</td>\n",
       "    </tr>\n",
       "    <tr>\n",
       "      <th>CVE-2017-0184</th>\n",
       "      <td>windows_server_2016</td>\n",
       "    </tr>\n",
       "  </tbody>\n",
       "</table>\n",
       "<p>828 rows × 1 columns</p>\n",
       "</div>"
      ],
      "text/plain": [
       "                vulnerable_product\n",
       "cve_id                            \n",
       "CVE-2019-1456  windows_server_2016\n",
       "CVE-2019-1440  windows_server_2016\n",
       "CVE-2019-1439  windows_server_2016\n",
       "CVE-2019-1438  windows_server_2016\n",
       "CVE-2019-1437  windows_server_2016\n",
       "...                            ...\n",
       "CVE-2017-0183  windows_server_2016\n",
       "CVE-2017-0182  windows_server_2016\n",
       "CVE-2017-0186  windows_server_2016\n",
       "CVE-2017-0178  windows_server_2016\n",
       "CVE-2017-0184  windows_server_2016\n",
       "\n",
       "[828 rows x 1 columns]"
      ]
     },
     "execution_count": 15,
     "metadata": {},
     "output_type": "execute_result"
    }
   ],
   "source": [
    "windows_2016 = products.query('vulnerable_product == \"windows_server_2016\"')\n",
    "windows_2016"
   ]
  },
  {
   "cell_type": "code",
   "execution_count": 16,
   "id": "d62a0ce4-28ba-4b3f-bdf1-7e4d4b554944",
   "metadata": {},
   "outputs": [
    {
     "data": {
      "text/html": [
       "<div>\n",
       "<style scoped>\n",
       "    .dataframe tbody tr th:only-of-type {\n",
       "        vertical-align: middle;\n",
       "    }\n",
       "\n",
       "    .dataframe tbody tr th {\n",
       "        vertical-align: top;\n",
       "    }\n",
       "\n",
       "    .dataframe thead th {\n",
       "        text-align: right;\n",
       "    }\n",
       "</style>\n",
       "<table border=\"1\" class=\"dataframe\">\n",
       "  <thead>\n",
       "    <tr style=\"text-align: right;\">\n",
       "      <th></th>\n",
       "      <th>vulnerable_product</th>\n",
       "    </tr>\n",
       "    <tr>\n",
       "      <th>cve_id</th>\n",
       "      <th></th>\n",
       "    </tr>\n",
       "  </thead>\n",
       "  <tbody>\n",
       "    <tr>\n",
       "      <th>CVE-2019-1456</th>\n",
       "      <td>windows_server_2019</td>\n",
       "    </tr>\n",
       "    <tr>\n",
       "      <th>CVE-2019-1440</th>\n",
       "      <td>windows_server_2019</td>\n",
       "    </tr>\n",
       "    <tr>\n",
       "      <th>CVE-2019-1439</th>\n",
       "      <td>windows_server_2019</td>\n",
       "    </tr>\n",
       "    <tr>\n",
       "      <th>CVE-2019-1438</th>\n",
       "      <td>windows_server_2019</td>\n",
       "    </tr>\n",
       "    <tr>\n",
       "      <th>CVE-2019-1437</th>\n",
       "      <td>windows_server_2019</td>\n",
       "    </tr>\n",
       "    <tr>\n",
       "      <th>...</th>\n",
       "      <td>...</td>\n",
       "    </tr>\n",
       "    <tr>\n",
       "      <th>CVE-2018-8489</th>\n",
       "      <td>windows_server_2019</td>\n",
       "    </tr>\n",
       "    <tr>\n",
       "      <th>CVE-2018-8493</th>\n",
       "      <td>windows_server_2019</td>\n",
       "    </tr>\n",
       "    <tr>\n",
       "      <th>CVE-2018-8494</th>\n",
       "      <td>windows_server_2019</td>\n",
       "    </tr>\n",
       "    <tr>\n",
       "      <th>CVE-2018-8490</th>\n",
       "      <td>windows_server_2019</td>\n",
       "    </tr>\n",
       "    <tr>\n",
       "      <th>CVE-2018-8330</th>\n",
       "      <td>windows_server_2019</td>\n",
       "    </tr>\n",
       "  </tbody>\n",
       "</table>\n",
       "<p>465 rows × 1 columns</p>\n",
       "</div>"
      ],
      "text/plain": [
       "                vulnerable_product\n",
       "cve_id                            \n",
       "CVE-2019-1456  windows_server_2019\n",
       "CVE-2019-1440  windows_server_2019\n",
       "CVE-2019-1439  windows_server_2019\n",
       "CVE-2019-1438  windows_server_2019\n",
       "CVE-2019-1437  windows_server_2019\n",
       "...                            ...\n",
       "CVE-2018-8489  windows_server_2019\n",
       "CVE-2018-8493  windows_server_2019\n",
       "CVE-2018-8494  windows_server_2019\n",
       "CVE-2018-8490  windows_server_2019\n",
       "CVE-2018-8330  windows_server_2019\n",
       "\n",
       "[465 rows x 1 columns]"
      ]
     },
     "execution_count": 16,
     "metadata": {},
     "output_type": "execute_result"
    }
   ],
   "source": [
    "windows_2019 = products.query('vulnerable_product == \"windows_server_2019\"')\n",
    "windows_2019"
   ]
  },
  {
   "cell_type": "code",
   "execution_count": 17,
   "id": "837fa2ae-8334-412c-88f0-d9b7e1eeed87",
   "metadata": {},
   "outputs": [
    {
     "data": {
      "text/html": [
       "<div>\n",
       "<style scoped>\n",
       "    .dataframe tbody tr th:only-of-type {\n",
       "        vertical-align: middle;\n",
       "    }\n",
       "\n",
       "    .dataframe tbody tr th {\n",
       "        vertical-align: top;\n",
       "    }\n",
       "\n",
       "    .dataframe thead th {\n",
       "        text-align: right;\n",
       "    }\n",
       "</style>\n",
       "<table border=\"1\" class=\"dataframe\">\n",
       "  <thead>\n",
       "    <tr style=\"text-align: right;\">\n",
       "      <th></th>\n",
       "      <th>vulnerable_product</th>\n",
       "    </tr>\n",
       "    <tr>\n",
       "      <th>cve_id</th>\n",
       "      <th></th>\n",
       "    </tr>\n",
       "  </thead>\n",
       "  <tbody>\n",
       "    <tr>\n",
       "      <th>CVE-2019-2201</th>\n",
       "      <td>ubuntu_linux</td>\n",
       "    </tr>\n",
       "    <tr>\n",
       "      <th>CVE-2013-1429</th>\n",
       "      <td>ubuntu_linux</td>\n",
       "    </tr>\n",
       "    <tr>\n",
       "      <th>CVE-2019-17134</th>\n",
       "      <td>ubuntu_linux</td>\n",
       "    </tr>\n",
       "    <tr>\n",
       "      <th>CVE-2017-5332</th>\n",
       "      <td>ubuntu_linux</td>\n",
       "    </tr>\n",
       "    <tr>\n",
       "      <th>CVE-2019-17266</th>\n",
       "      <td>ubuntu_linux</td>\n",
       "    </tr>\n",
       "    <tr>\n",
       "      <th>...</th>\n",
       "      <td>...</td>\n",
       "    </tr>\n",
       "    <tr>\n",
       "      <th>CVE-2013-1051</th>\n",
       "      <td>ubuntu_linux</td>\n",
       "    </tr>\n",
       "    <tr>\n",
       "      <th>CVE-2012-5624</th>\n",
       "      <td>ubuntu_linux</td>\n",
       "    </tr>\n",
       "    <tr>\n",
       "      <th>CVE-2012-2317</th>\n",
       "      <td>ubuntu_linux</td>\n",
       "    </tr>\n",
       "    <tr>\n",
       "      <th>CVE-2012-0950</th>\n",
       "      <td>ubuntu_linux</td>\n",
       "    </tr>\n",
       "    <tr>\n",
       "      <th>CVE-2010-0834</th>\n",
       "      <td>ubuntu_linux</td>\n",
       "    </tr>\n",
       "  </tbody>\n",
       "</table>\n",
       "<p>1871 rows × 1 columns</p>\n",
       "</div>"
      ],
      "text/plain": [
       "               vulnerable_product\n",
       "cve_id                           \n",
       "CVE-2019-2201        ubuntu_linux\n",
       "CVE-2013-1429        ubuntu_linux\n",
       "CVE-2019-17134       ubuntu_linux\n",
       "CVE-2017-5332        ubuntu_linux\n",
       "CVE-2019-17266       ubuntu_linux\n",
       "...                           ...\n",
       "CVE-2013-1051        ubuntu_linux\n",
       "CVE-2012-5624        ubuntu_linux\n",
       "CVE-2012-2317        ubuntu_linux\n",
       "CVE-2012-0950        ubuntu_linux\n",
       "CVE-2010-0834        ubuntu_linux\n",
       "\n",
       "[1871 rows x 1 columns]"
      ]
     },
     "execution_count": 17,
     "metadata": {},
     "output_type": "execute_result"
    }
   ],
   "source": [
    "ubuntu = products.query('vulnerable_product == \"ubuntu_linux\"')\n",
    "ubuntu"
   ]
  },
  {
   "cell_type": "code",
   "execution_count": 18,
   "id": "e59fccfe-e019-4c8a-925f-1a082bf27d3c",
   "metadata": {},
   "outputs": [
    {
     "data": {
      "text/html": [
       "<div>\n",
       "<style scoped>\n",
       "    .dataframe tbody tr th:only-of-type {\n",
       "        vertical-align: middle;\n",
       "    }\n",
       "\n",
       "    .dataframe tbody tr th {\n",
       "        vertical-align: top;\n",
       "    }\n",
       "\n",
       "    .dataframe thead th {\n",
       "        text-align: right;\n",
       "    }\n",
       "</style>\n",
       "<table border=\"1\" class=\"dataframe\">\n",
       "  <thead>\n",
       "    <tr style=\"text-align: right;\">\n",
       "      <th></th>\n",
       "      <th>vulnerable_product</th>\n",
       "    </tr>\n",
       "    <tr>\n",
       "      <th>cve_id</th>\n",
       "      <th></th>\n",
       "    </tr>\n",
       "  </thead>\n",
       "  <tbody>\n",
       "    <tr>\n",
       "      <th>CVE-2019-11042</th>\n",
       "      <td>mac_os_x</td>\n",
       "    </tr>\n",
       "    <tr>\n",
       "      <th>CVE-2019-11041</th>\n",
       "      <td>mac_os_x</td>\n",
       "    </tr>\n",
       "    <tr>\n",
       "      <th>CVE-2014-7185</th>\n",
       "      <td>mac_os_x</td>\n",
       "    </tr>\n",
       "    <tr>\n",
       "      <th>CVE-2014-1912</th>\n",
       "      <td>mac_os_x</td>\n",
       "    </tr>\n",
       "    <tr>\n",
       "      <th>CVE-2013-7040</th>\n",
       "      <td>mac_os_x</td>\n",
       "    </tr>\n",
       "    <tr>\n",
       "      <th>...</th>\n",
       "      <td>...</td>\n",
       "    </tr>\n",
       "    <tr>\n",
       "      <th>CVE-2009-0160</th>\n",
       "      <td>mac_os_x</td>\n",
       "    </tr>\n",
       "    <tr>\n",
       "      <th>CVE-2008-3438</th>\n",
       "      <td>mac_os_x</td>\n",
       "    </tr>\n",
       "    <tr>\n",
       "      <th>CVE-2005-1330</th>\n",
       "      <td>mac_os_x</td>\n",
       "    </tr>\n",
       "    <tr>\n",
       "      <th>CVE-2002-2326</th>\n",
       "      <td>mac_os_x</td>\n",
       "    </tr>\n",
       "    <tr>\n",
       "      <th>CVE-2007-0342</th>\n",
       "      <td>mac_os_x</td>\n",
       "    </tr>\n",
       "  </tbody>\n",
       "</table>\n",
       "<p>1747 rows × 1 columns</p>\n",
       "</div>"
      ],
      "text/plain": [
       "               vulnerable_product\n",
       "cve_id                           \n",
       "CVE-2019-11042           mac_os_x\n",
       "CVE-2019-11041           mac_os_x\n",
       "CVE-2014-7185            mac_os_x\n",
       "CVE-2014-1912            mac_os_x\n",
       "CVE-2013-7040            mac_os_x\n",
       "...                           ...\n",
       "CVE-2009-0160            mac_os_x\n",
       "CVE-2008-3438            mac_os_x\n",
       "CVE-2005-1330            mac_os_x\n",
       "CVE-2002-2326            mac_os_x\n",
       "CVE-2007-0342            mac_os_x\n",
       "\n",
       "[1747 rows x 1 columns]"
      ]
     },
     "execution_count": 18,
     "metadata": {},
     "output_type": "execute_result"
    }
   ],
   "source": [
    "mac_os = products.query('vulnerable_product == \"mac_os_x\"')\n",
    "mac_os"
   ]
  },
  {
   "cell_type": "markdown",
   "id": "640b2957-aa63-4316-b726-8c1e6351a18b",
   "metadata": {},
   "source": [
    "A histogram"
   ]
  },
  {
   "cell_type": "code",
   "execution_count": 19,
   "id": "6da4759d-dbc0-4068-ae10-8da458a31c0f",
   "metadata": {},
   "outputs": [],
   "source": [
    "import thinkplot\n",
    "import thinkstats2"
   ]
  },
  {
   "cell_type": "code",
   "execution_count": 20,
   "id": "ab17e7c7-2de9-432c-9ad7-6245da959e6b",
   "metadata": {},
   "outputs": [
    {
     "data": {
      "text/plain": [
       "cve_id\n",
       "CVE-2019-16548    google_compute_engine\n",
       "CVE-2019-16547    google_compute_engine\n",
       "CVE-2019-16546    google_compute_engine\n",
       "CVE-2013-2092                  dolibarr\n",
       "CVE-2013-2091                  dolibarr\n",
       "                          ...          \n",
       "CVE-2007-6444                       NaN\n",
       "CVE-2007-6443                       NaN\n",
       "CVE-2007-6442                       NaN\n",
       "CVE-2007-6370                       NaN\n",
       "CVE-2007-3004                       NaN\n",
       "Name: vulnerable_product, Length: 180585, dtype: object"
      ]
     },
     "execution_count": 20,
     "metadata": {},
     "output_type": "execute_result"
    }
   ],
   "source": [
    "df = products['vulnerable_product']\n",
    "df"
   ]
  },
  {
   "cell_type": "markdown",
   "id": "53069373-395f-4f17-bd51-246373ce8458",
   "metadata": {},
   "source": [
    "## Variabel Descriptive Info"
   ]
  },
  {
   "cell_type": "code",
   "execution_count": 21,
   "id": "63bb8bd0-e305-4594-adc2-4e6345c275e1",
   "metadata": {},
   "outputs": [
    {
     "name": "stderr",
     "output_type": "stream",
     "text": [
      "/tmp/ipykernel_868203/2055279176.py:1: FutureWarning: Dropping of nuisance columns in DataFrame reductions (with 'numeric_only=None') is deprecated; in a future version this will raise TypeError.  Select only valid columns before calling the reduction.\n",
      "  ubuntu.mean()\n"
     ]
    },
    {
     "data": {
      "text/plain": [
       "Series([], dtype: float64)"
      ]
     },
     "execution_count": 21,
     "metadata": {},
     "output_type": "execute_result"
    }
   ],
   "source": [
    "ubuntu.mean()"
   ]
  },
  {
   "cell_type": "code",
   "execution_count": null,
   "id": "bf734510-bae2-4c9e-abfc-d3512010c499",
   "metadata": {},
   "outputs": [],
   "source": []
  },
  {
   "cell_type": "markdown",
   "id": "427995ce-9981-4681-b402-8d830c4494f0",
   "metadata": {},
   "source": [
    "## Histograms"
   ]
  },
  {
   "cell_type": "code",
   "execution_count": 28,
   "id": "6ab28e58-37b4-4fe1-af76-880fd580a940",
   "metadata": {},
   "outputs": [
    {
     "data": {
      "text/plain": [
       "(1871, 1747, 1039, 828, 465)"
      ]
     },
     "execution_count": 28,
     "metadata": {},
     "output_type": "execute_result"
    }
   ],
   "source": [
    "ubuntu_count = len(ubuntu)\n",
    "macos_count = len(mac_os)\n",
    "win10_count = len(windows_10)\n",
    "win2016_count = len(windows_2016)\n",
    "win2019_count = len(windows_2019)\n",
    "\n"
   ]
  },
  {
   "cell_type": "code",
   "execution_count": 73,
   "id": "e8dd77e6-81b3-46fe-94fe-08b396176e09",
   "metadata": {},
   "outputs": [
    {
     "data": {
      "text/plain": [
       "(1871, 1747, 1039, 828, 465)"
      ]
     },
     "execution_count": 73,
     "metadata": {},
     "output_type": "execute_result"
    }
   ],
   "source": [
    "z = ubuntu_count, macos_count, win10_count, win2016_count, win2019_count\n",
    "z"
   ]
  },
  {
   "cell_type": "code",
   "execution_count": 74,
   "id": "058d2204-1ee4-41af-8c6a-9d251745d0d3",
   "metadata": {},
   "outputs": [
    {
     "data": {
      "text/plain": [
       "(1871, 1747, 2332)"
      ]
     },
     "execution_count": 74,
     "metadata": {},
     "output_type": "execute_result"
    }
   ],
   "source": [
    "y = ubuntu_count, macos_count, win10_count +  win2016_count + win2019_count\n",
    "y"
   ]
  },
  {
   "cell_type": "code",
   "execution_count": 66,
   "id": "c6c7119f-a165-41ad-bfce-ebacb0a0db89",
   "metadata": {},
   "outputs": [],
   "source": [
    "def displayHist(hist):\n",
    "    thinkplot.Hist(hist)\n",
    "    thinkplot.Config(xlabel='CVEs (count)', ylabel='frequeny')"
   ]
  },
  {
   "cell_type": "code",
   "execution_count": 67,
   "id": "94382875-9ded-433f-9f0a-d3c888fe9266",
   "metadata": {},
   "outputs": [
    {
     "data": {
      "text/plain": [
       "Hist({1871: 1, 1747: 1, 1039: 1, 828: 1, 465: 1})"
      ]
     },
     "execution_count": 67,
     "metadata": {},
     "output_type": "execute_result"
    }
   ],
   "source": [
    "hist = thinkstats2.Hist([ubuntu_count, macos_count, win10_count, win2016_count, win2019_count])\n",
    "hist"
   ]
  },
  {
   "cell_type": "code",
   "execution_count": 68,
   "id": "6a8b5728-853d-4e72-8e51-4152b808f180",
   "metadata": {},
   "outputs": [
    {
     "data": {
      "image/png": "[encoded data removed]",
      "text/plain": [
       "<Figure size 432x288 with 1 Axes>"
      ]
     },
     "metadata": {
      "needs_background": "light"
     },
     "output_type": "display_data"
    }
   ],
   "source": [
    "displayHist(hist)"
   ]
  },
  {
   "cell_type": "code",
   "execution_count": null,
   "id": "18ece898-4f53-4095-8e92-e2ffb706b53f",
   "metadata": {},
   "outputs": [],
   "source": []
  },
  {
   "cell_type": "code",
   "execution_count": null,
   "id": "df531bbf-03fe-4332-8f71-2b2bf0f049ed",
   "metadata": {},
   "outputs": [],
   "source": []
  },
  {
   "cell_type": "code",
   "execution_count": 47,
   "id": "0c825b87-d4d2-407d-8bfc-bcd7e8b82516",
   "metadata": {},
   "outputs": [
    {
     "data": {
      "text/plain": [
       "Hist({1871: 1, 1747: 1, 2332: 1}, 'CVES')"
      ]
     },
     "execution_count": 47,
     "metadata": {},
     "output_type": "execute_result"
    }
   ],
   "source": [
    "hist = thinkstats2.Hist([ubuntu_count, macos_count, win10_count + win2016_count + win2019_count], label='CVES')\n",
    "hist"
   ]
  },
  {
   "cell_type": "code",
   "execution_count": 48,
   "id": "2d37463d-ff77-491e-8f30-777c4dd9ab1f",
   "metadata": {},
   "outputs": [
    {
     "data": {
      "image/png": "[encoded data removed]",
      "text/plain": [
       "<Figure size 432x288 with 1 Axes>"
      ]
     },
     "metadata": {
      "needs_background": "light"
     },
     "output_type": "display_data"
    }
   ],
   "source": [
    "displayHist(hist)\n"
   ]
  },
  {
   "cell_type": "markdown",
   "id": "e637fc22-35b9-491c-8fe6-8f55b1f19b4f",
   "metadata": {},
   "source": [
    "### Means"
   ]
  },
  {
   "cell_type": "code",
   "execution_count": null,
   "id": "8529bcd6-7156-45eb-a98c-22c4c9c9a616",
   "metadata": {},
   "outputs": [],
   "source": [
    "def mean(dataset):\n",
    "    return sum(dataset) / len(dataset)"
   ]
  },
  {
   "cell_type": "code",
   "execution_count": 77,
   "id": "cb997648-1707-4f6d-9985-02440148330d",
   "metadata": {},
   "outputs": [
    {
     "data": {
      "text/plain": [
       "1190.0"
      ]
     },
     "execution_count": 79,
     "metadata": {},
     "output_type": "execute_result"
    }
   ],
   "source": [
    "mean1 = mean(z)\n",
    "mean1\n"
   ]
  },
  {
   "cell_type": "code",
   "execution_count": 80,
   "id": "6fa8b9fe-2d0b-4720-abcd-4ad20c71a70c",
   "metadata": {},
   "outputs": [
    {
     "data": {
      "text/plain": [
       "1983.3333333333333"
      ]
     },
     "execution_count": 80,
     "metadata": {},
     "output_type": "execute_result"
    }
   ],
   "source": [
    "mean2 = mean(y)\n",
    "mean2\n"
   ]
  },
  {
   "cell_type": "markdown",
   "id": "07a20c13-2080-44c9-9248-c5ea70864bef",
   "metadata": {},
   "source": [
    "## Median"
   ]
  },
  {
   "cell_type": "code",
   "execution_count": 84,
   "id": "91a8e8fc-da3c-4fd9-bea5-5e7d7fa6a004",
   "metadata": {},
   "outputs": [],
   "source": [
    "def median(dataset):\n",
    "    data = sorted(dataset)\n",
    "    index = len(data) // 2\n",
    "    \n",
    "    # If the dataset is odd  \n",
    "    if len(dataset) % 2 != 0:\n",
    "        return data[index]\n",
    "    \n",
    "    # If the dataset is even\n",
    "    return (data[index - 1] + data[index]) / 2"
   ]
  },
  {
   "cell_type": "code",
   "execution_count": 86,
   "id": "327da69e-2ab2-4f24-9c68-7a98f2f46db9",
   "metadata": {},
   "outputs": [
    {
     "data": {
      "text/plain": [
       "1039"
      ]
     },
     "execution_count": 86,
     "metadata": {},
     "output_type": "execute_result"
    }
   ],
   "source": [
    "median(z)"
   ]
  },
  {
   "cell_type": "code",
   "execution_count": 87,
   "id": "f776d7b5-0dc7-441e-a7cb-da595781a299",
   "metadata": {},
   "outputs": [
    {
     "data": {
      "text/plain": [
       "1871"
      ]
     },
     "execution_count": 87,
     "metadata": {},
     "output_type": "execute_result"
    }
   ],
   "source": [
    "median(y)"
   ]
  },
  {
   "cell_type": "markdown",
   "id": "bb5270a2-350c-40fe-820c-b6b19ffc5aab",
   "metadata": {},
   "source": [
    "### Mode"
   ]
  },
  {
   "cell_type": "code",
   "execution_count": 81,
   "id": "3d7709a6-1949-42b4-a724-69ea645f2821",
   "metadata": {},
   "outputs": [
    {
     "data": {
      "text/plain": [
       "[1871, 1747, 1039, 828, 465]"
      ]
     },
     "execution_count": 81,
     "metadata": {},
     "output_type": "execute_result"
    }
   ],
   "source": [
    "def mode(ls):\n",
    "    # dictionary to keep count of each value\n",
    "    counts = {}\n",
    "    # iterate through the list\n",
    "    for item in ls:\n",
    "        if item in counts:\n",
    "            counts[item] += 1\n",
    "        else:\n",
    "            counts[item] = 1\n",
    "    # get the keys with the max counts\n",
    "    return [key for key in counts.keys() if counts[key] == max(counts.values())]\n",
    "\n",
    "\n",
    "mode(z)"
   ]
  },
  {
   "cell_type": "code",
   "execution_count": 82,
   "id": "139957ea-cc48-48c6-acb2-fec0cb5a9a3b",
   "metadata": {},
   "outputs": [
    {
     "data": {
      "text/plain": [
       "[1871, 1747, 2332]"
      ]
     },
     "execution_count": 82,
     "metadata": {},
     "output_type": "execute_result"
    }
   ],
   "source": [
    "mode(y)\n"
   ]
  },
  {
   "cell_type": "markdown",
   "id": "edcd7e54-2b4e-4505-8a2d-35af5402fe1e",
   "metadata": {},
   "source": [
    "## Spread"
   ]
  },
  {
   "cell_type": "code",
   "execution_count": 88,
   "id": "8234cb1e-32c6-475f-8229-63241f8318d4",
   "metadata": {},
   "outputs": [],
   "source": [
    "import statistics"
   ]
  },
  {
   "cell_type": "code",
   "execution_count": 89,
   "id": "96f11377-4de5-4d90-a911-25bca438f136",
   "metadata": {},
   "outputs": [
    {
     "data": {
      "text/plain": [
       "363370"
      ]
     },
     "execution_count": 89,
     "metadata": {},
     "output_type": "execute_result"
    }
   ],
   "source": [
    "statistics.variance(z)"
   ]
  },
  {
   "cell_type": "code",
   "execution_count": 90,
   "id": "f066b6aa-da0b-4a82-bd4f-c207bffd14ff",
   "metadata": {},
   "outputs": [
    {
     "data": {
      "text/plain": [
       "95020.33333333333"
      ]
     },
     "execution_count": 90,
     "metadata": {},
     "output_type": "execute_result"
    }
   ],
   "source": [
    "statistics.variance(y)"
   ]
  },
  {
   "cell_type": "markdown",
   "id": "16252ff6-776e-4f50-996f-3a430de9cc16",
   "metadata": {},
   "source": [
    "## tail\n",
    "\n",
    "No idea other then \"tail\" but that is the last x rows"
   ]
  }
 ],
 "metadata": {
  "kernelspec": {
   "display_name": "Python 3 (ipykernel)",
   "language": "python",
   "name": "python3"
  },
  "language_info": {
   "codemirror_mode": {
    "name": "ipython",
    "version": 3
   },
   "file_extension": ".py",
   "mimetype": "text/x-python",
   "name": "python",
   "nbconvert_exporter": "python",
   "pygments_lexer": "ipython3",
   "version": "3.9.6"
  }
 },
 "nbformat": 4,
 "nbformat_minor": 5
}
