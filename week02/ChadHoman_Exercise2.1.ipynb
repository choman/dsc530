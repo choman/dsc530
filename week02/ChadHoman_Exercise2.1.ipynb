{
 "cells": [
  {
   "cell_type": "code",
   "execution_count": 1,
   "id": "70926450-e125-40a3-9e87-eca7f0125934",
   "metadata": {},
   "outputs": [],
   "source": [
    "# Author: Chad Homan\n",
    "# Date:   2021-09-07\n",
    "#\n",
    "# Abstract: This sample python program performs the following actions:\n",
    "#  - Display the text “Hello World! I wonder why that is always the default coding text to start with”\n",
    "#  - Add two numbers together\n",
    "#  - Subtract a number from another number\n",
    "#  - Multiply two numbers\n",
    "#  - Divide between two numbers\n",
    "#  - Concatenate two strings together (any words)\n",
    "#  - Create a list of 4 items (can be strings, numbers, both)\n",
    "#  - Append an item to your list (again, can be a string, number)\n",
    "#  - Create a tuple with 4 items (can be strings, numbers, both)\n",
    "#"
   ]
  },
  {
   "cell_type": "code",
   "execution_count": 2,
   "id": "1dc2000d-6f49-49db-b9aa-69dbb290202d",
   "metadata": {},
   "outputs": [
    {
     "name": "stdout",
     "output_type": "stream",
     "text": [
      "Hello World! I wonder why that is always the default coding text to start with\n"
     ]
    }
   ],
   "source": [
    "#  - Display the text “Hello World! I wonder why that is always the default coding text to start with”\n",
    "print(\"Hello World! I wonder why that is always the default coding text to start with\")"
   ]
  },
  {
   "cell_type": "code",
   "execution_count": 3,
   "id": "380184f6-f9ef-4cb3-9e47-8b1a9fa2d2b2",
   "metadata": {},
   "outputs": [
    {
     "name": "stdout",
     "output_type": "stream",
     "text": [
      "result=15\n"
     ]
    }
   ],
   "source": [
    "#  - Add two numbers together\n",
    "result = 6 + 9\n",
    "print(f\"{result=}\")"
   ]
  },
  {
   "cell_type": "code",
   "execution_count": 4,
   "id": "fcda3939-1738-4a91-81e1-f9226c5a83db",
   "metadata": {},
   "outputs": [
    {
     "name": "stdout",
     "output_type": "stream",
     "text": [
      "result=6\n"
     ]
    }
   ],
   "source": [
    "#  - Subtract a number from another number\n",
    "result = 9 - 3\n",
    "print(f\"{result=}\")"
   ]
  },
  {
   "cell_type": "code",
   "execution_count": 5,
   "id": "e925887a-3104-4c0a-891c-fb79f1aa26bb",
   "metadata": {},
   "outputs": [
    {
     "name": "stdout",
     "output_type": "stream",
     "text": [
      "result=8\n"
     ]
    }
   ],
   "source": [
    "#  - Multiply two numbers\n",
    "result = 4 * 2\n",
    "print(f\"{result=}\")"
   ]
  },
  {
   "cell_type": "code",
   "execution_count": 6,
   "id": "e12e7abe-d5a7-4e53-8eda-808c63fc475d",
   "metadata": {},
   "outputs": [
    {
     "name": "stdout",
     "output_type": "stream",
     "text": [
      "result=2.0\n"
     ]
    }
   ],
   "source": [
    "#  - Divide between two numbers\n",
    "result = 4 / 2\n",
    "print(f\"{result=}\")"
   ]
  },
  {
   "cell_type": "code",
   "execution_count": 7,
   "id": "753048ee-8ec1-4545-87cf-b5653ce9329b",
   "metadata": {},
   "outputs": [
    {
     "name": "stdout",
     "output_type": "stream",
     "text": [
      "concat='byebye'\n"
     ]
    }
   ],
   "source": [
    "#  - Concatenate two strings together (any words)\n",
    "concat = \"bye\" + \"bye\"\n",
    "print(f\"{concat=}\")"
   ]
  },
  {
   "cell_type": "code",
   "execution_count": 8,
   "id": "8f563dd1-c383-4c43-a863-3c587f8ba96c",
   "metadata": {},
   "outputs": [
    {
     "name": "stdout",
     "output_type": "stream",
     "text": [
      "l=['hello', 'world!', 'there', 'are', 6, 'items']\n"
     ]
    }
   ],
   "source": [
    "#  - Create a list of 4 items (can be strings, numbers, both)\n",
    "l = [\"hello\", \"world!\", \"there\", \"are\", 6, \"items\"]\n",
    "print(f\"{l=}\")"
   ]
  },
  {
   "cell_type": "code",
   "execution_count": 9,
   "id": "80e429c6-4f11-45b0-921b-f338c444b9d8",
   "metadata": {},
   "outputs": [
    {
     "name": "stdout",
     "output_type": "stream",
     "text": [
      "l=['hello', 'world!', 'there', 'are', 6, 'items', 'dogs']\n"
     ]
    }
   ],
   "source": [
    "#  - Append an item to your list (again, can be a string, number)\n",
    "l.append(\"dogs\")\n",
    "print(f\"{l=}\")"
   ]
  },
  {
   "cell_type": "code",
   "execution_count": 10,
   "id": "9097c8b7-5902-49f7-82a8-725e7438f648",
   "metadata": {},
   "outputs": [
    {
     "name": "stdout",
     "output_type": "stream",
     "text": [
      "t=('This', 'is', 'freaking', 'cool')\n"
     ]
    }
   ],
   "source": [
    "#  - Create a tuple with 4 items (can be strings, numbers, both)\n",
    "t = (\"This\", \"is\", \"freaking\", \"cool\")\n",
    "print(f\"{t=}\")"
   ]
  }
 ],
 "metadata": {
  "kernelspec": {
   "display_name": "Python 3 (ipykernel)",
   "language": "python",
   "name": "python3"
  },
  "language_info": {
   "codemirror_mode": {
    "name": "ipython",
    "version": 3
   },
   "file_extension": ".py",
   "mimetype": "text/x-python",
   "name": "python",
   "nbconvert_exporter": "python",
   "pygments_lexer": "ipython3",
   "version": "3.9.6"
  }
 },
 "nbformat": 4,
 "nbformat_minor": 5
}
