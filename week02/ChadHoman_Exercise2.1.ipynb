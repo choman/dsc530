{
 "cells": [
  {
   "cell_type": "code",
   "execution_count": 1,
   "id": "70926450-e125-40a3-9e87-eca7f0125934",
   "metadata": {},
   "outputs": [
    {
     "name": "stdout",
     "output_type": "stream",
     "text": [
      "Hello World! I wonder why that is always the default coding text to start with\n",
      "15\n",
      "6\n",
      "8\n",
      "2.0\n",
      "byebye\n",
      "['hello', 'world!', 'there', 'are', 6, 'items']\n",
      "['hello', 'world!', 'there', 'are', 6, 'items', 'dogs']\n",
      "('This', 'is', 'freaking', 'cool')\n"
     ]
    }
   ],
   "source": [
    "# Author: Chad Homan\n",
    "# Date:   2021-09-07\n",
    "#\n",
    "# Abstract: This sample python program performs the following actions:\n",
    "#  - Display the text “Hello World! I wonder why that is always the default coding text to start with”\n",
    "#  - Add two numbers together\n",
    "#  - Subtract a number from another number\n",
    "#  - Multiply two numbers\n",
    "#  - Divide between two numbers\n",
    "#  - Concatenate two strings together (any words)\n",
    "#  - Create a list of 4 items (can be strings, numbers, both)\n",
    "#  - Append an item to your list (again, can be a string, number)\n",
    "#  - Create a tuple with 4 items (can be strings, numbers, both)\n",
    "\n",
    "#  - Display the text “Hello World! I wonder why that is always the default coding text to start with”\n",
    "print('Hello World! I wonder why that is always the default coding text to start with')\n",
    "\n",
    "#  - Add two numbers together\n",
    "ans = 6 + 9\n",
    "print(ans)\n",
    "\n",
    "#  - Subtract a number from another number\n",
    "ans = 9 - 3\n",
    "print(ans)\n",
    "\n",
    "#  - Multiply two numbers\n",
    "ans = 4 * 2\n",
    "print(ans)\n",
    "\n",
    "#  - Divide between two numbers\n",
    "ans = 4 / 2\n",
    "print(ans)\n",
    "\n",
    "#  - Concatenate two strings together (any words)\n",
    "concat = \"bye\" + \"bye\"\n",
    "print(concat)\n",
    "\n",
    "#  - Create a list of 4 items (can be strings, numbers, both)\n",
    "l = [\"hello\", \"world!\", \"there\", \"are\", 6, \"items\"]\n",
    "print(l)\n",
    "\n",
    "#  - Append an item to your list (again, can be a string, number)\n",
    "l.append(\"dogs\")\n",
    "print(l)\n",
    "\n",
    "#  - Create a tuple with 4 items (can be strings, numbers, both)\n",
    "t = (\"This\", \"is\", \"freaking\", \"cool\")\n",
    "print(t)"
   ]
  },
  {
   "cell_type": "code",
   "execution_count": 12,
   "id": "e925887a-3104-4c0a-891c-fb79f1aa26bb",
   "metadata": {},
   "outputs": [
    {
     "name": "stdout",
     "output_type": "stream",
     "text": [
      "Hello World! I wonder why that is always the default coding text to start with\n",
      "15\n",
      "6\n",
      "8\n",
      "2.0\n",
      "byebye\n",
      "['hello', 'world!', 'there', 'are', 6, 'items']\n",
      "['hello', 'world!', 'there', 'are', 6, 'items', 'dogs']\n",
      "('This', 'is', 'freaking', 'cool')\n"
     ]
    }
   ],
   "source": [
    "#\n",
    "#  - Display the text “Hello World! I wonder why that is always the default coding text to start with”\n",
    "#  - Add two numbers together\n",
    "#  - Subtract a number from another number\n",
    "#  - Multiply two numbers\n",
    "#  - Divide between two numbers\n",
    "#  - Concatenate two strings together (any words)\n",
    "#  - Create a list of 4 items (can be strings, numbers, both)\n",
    "#  - Append an item to your list (again, can be a string, number)\n",
    "#  - Create a tuple with 4 items (can be strings, numbers, both)\n",
    "\n",
    "\n",
    "print('Hello World! I wonder why that is always the default coding text to start with')\n",
    "ans = 6 + 9\n",
    "print(ans)\n",
    "\n",
    "ans = 9 - 3\n",
    "print(ans)\n",
    "\n",
    "ans = 4 * 2\n",
    "print(ans)\n",
    "\n",
    "ans = 4 / 2\n",
    "print(ans)\n",
    "\n",
    "concat = \"bye\" + \"bye\"\n",
    "print(concat)\n",
    "\n",
    "l = [\"hello\", \"world!\", \"there\", \"are\", 6, \"items\"]\n",
    "print(l)\n",
    "\n",
    "l.append(\"dogs\")\n",
    "print(l)\n",
    "\n",
    "t = (\"This\", \"is\", \"freaking\", \"cool\")\n",
    "print(t)"
   ]
  },
  {
   "cell_type": "code",
   "execution_count": null,
   "id": "80e429c6-4f11-45b0-921b-f338c444b9d8",
   "metadata": {},
   "outputs": [],
   "source": []
  },
  {
   "cell_type": "code",
   "execution_count": null,
   "id": "9097c8b7-5902-49f7-82a8-725e7438f648",
   "metadata": {},
   "outputs": [],
   "source": []
  }
 ],
 "metadata": {
  "kernelspec": {
   "display_name": "Python 3 (ipykernel)",
   "language": "python",
   "name": "python3"
  },
  "language_info": {
   "codemirror_mode": {
    "name": "ipython",
    "version": 3
   },
   "file_extension": ".py",
   "mimetype": "text/x-python",
   "name": "python",
   "nbconvert_exporter": "python",
   "pygments_lexer": "ipython3",
   "version": "3.9.6"
  }
 },
 "nbformat": 4,
 "nbformat_minor": 5
}
